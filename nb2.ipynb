{
 "cells": [
  {
   "cell_type": "markdown",
   "id": "congressional-monte",
   "metadata": {},
   "source": [
    "# Create the machine learning algorithm"
   ]
  },
  {
   "cell_type": "markdown",
   "id": "canadian-charleston",
   "metadata": {},
   "source": [
    "# Import the relevant libraries"
   ]
  },
  {
   "cell_type": "code",
   "execution_count": 1,
   "id": "decent-reference",
   "metadata": {},
   "outputs": [],
   "source": [
    "import numpy as np\n",
    "import tensorflow as tf"
   ]
  },
  {
   "cell_type": "markdown",
   "id": "running-adventure",
   "metadata": {},
   "source": [
    "# Load Data"
   ]
  },
  {
   "cell_type": "code",
   "execution_count": 2,
   "id": "maritime-packing",
   "metadata": {},
   "outputs": [],
   "source": [
    "npz = np.load('Audiobooks_data_train.npz')\n",
    "\n",
    "train_inputs = npz['inputs'].astype(np.float)\n",
    "train_targets = npz['targets'].astype(np.int)\n",
    "\n",
    "npz = np.load('Audiobooks_data_validation.npz')\n",
    "validation_inputs, validation_targets = npz['inputs'].astype(np.float), npz['targets'].astype(np.int)\n",
    "\n",
    "npz = np.load('Audiobooks_data_test.npz')\n",
    "test_inputs, test_targets = npz['inputs'].astype(np.float), npz['targets'].astype(np.int)"
   ]
  },
  {
   "cell_type": "markdown",
   "id": "developmental-senior",
   "metadata": {},
   "source": [
    "# Model"
   ]
  },
  {
   "cell_type": "code",
   "execution_count": 3,
   "id": "orange-engagement",
   "metadata": {},
   "outputs": [
    {
     "name": "stdout",
     "output_type": "stream",
     "text": [
      "Epoch 1/100\n",
      "36/36 - 1s - loss: 0.5704 - accuracy: 0.7443 - val_loss: 0.4311 - val_accuracy: 0.8747\n",
      "Epoch 2/100\n",
      "36/36 - 0s - loss: 0.3673 - accuracy: 0.8787 - val_loss: 0.3252 - val_accuracy: 0.8904\n",
      "Epoch 3/100\n",
      "36/36 - 0s - loss: 0.3155 - accuracy: 0.8846 - val_loss: 0.3039 - val_accuracy: 0.8926\n",
      "Epoch 4/100\n",
      "36/36 - 0s - loss: 0.2973 - accuracy: 0.8916 - val_loss: 0.2945 - val_accuracy: 0.8971\n",
      "Epoch 5/100\n",
      "36/36 - 0s - loss: 0.2850 - accuracy: 0.8944 - val_loss: 0.2845 - val_accuracy: 0.8949\n",
      "Epoch 6/100\n",
      "36/36 - 0s - loss: 0.2760 - accuracy: 0.8972 - val_loss: 0.2851 - val_accuracy: 0.8926\n",
      "Epoch 7/100\n",
      "36/36 - 0s - loss: 0.2689 - accuracy: 0.9008 - val_loss: 0.2739 - val_accuracy: 0.8993\n",
      "Epoch 8/100\n",
      "36/36 - 0s - loss: 0.2612 - accuracy: 0.9033 - val_loss: 0.2721 - val_accuracy: 0.9038\n",
      "Epoch 9/100\n",
      "36/36 - 0s - loss: 0.2571 - accuracy: 0.9042 - val_loss: 0.2692 - val_accuracy: 0.8993\n",
      "Epoch 10/100\n",
      "36/36 - 0s - loss: 0.2521 - accuracy: 0.9050 - val_loss: 0.2736 - val_accuracy: 0.9038\n",
      "Epoch 11/100\n",
      "36/36 - 0s - loss: 0.2497 - accuracy: 0.9058 - val_loss: 0.2775 - val_accuracy: 0.9016\n"
     ]
    },
    {
     "data": {
      "text/plain": [
       "<tensorflow.python.keras.callbacks.History at 0x12f556d0b20>"
      ]
     },
     "execution_count": 3,
     "metadata": {},
     "output_type": "execute_result"
    }
   ],
   "source": [
    "input_size = 10\n",
    "output_size = 2\n",
    "hidden_layer_size = 50\n",
    "    \n",
    "model = tf.keras.Sequential([\n",
    "    tf.keras.layers.Dense(hidden_layer_size, activation='relu'), \n",
    "    tf.keras.layers.Dense(hidden_layer_size, activation='relu'), \n",
    "    tf.keras.layers.Dense(output_size, activation='softmax') \n",
    "])\n",
    "\n",
    "model.compile(optimizer='adam', loss='sparse_categorical_crossentropy', metrics=['accuracy'])\n",
    "\n",
    "batch_size = 100\n",
    "early_stopping = tf.keras.callbacks.EarlyStopping(patience=2)\n",
    "max_epochs=100\n",
    "\n",
    "model.fit(train_inputs,\n",
    "         train_targets,\n",
    "          batch_size=batch_size,\n",
    "          epochs=max_epochs,\n",
    "          callbacks=[early_stopping],\n",
    "          validation_data=(validation_inputs,validation_targets),\n",
    "          verbose=2\n",
    "         )"
   ]
  },
  {
   "cell_type": "markdown",
   "id": "whole-surname",
   "metadata": {},
   "source": [
    "# Test the model"
   ]
  },
  {
   "cell_type": "code",
   "execution_count": 4,
   "id": "directed-arena",
   "metadata": {},
   "outputs": [
    {
     "name": "stdout",
     "output_type": "stream",
     "text": [
      "14/14 [==============================] - 0s 1ms/step - loss: 0.2692 - accuracy: 0.8929\n"
     ]
    }
   ],
   "source": [
    "test_loss, test_accuracy = model.evaluate(test_inputs, test_targets)"
   ]
  },
  {
   "cell_type": "code",
   "execution_count": 5,
   "id": "inside-melissa",
   "metadata": {},
   "outputs": [
    {
     "name": "stdout",
     "output_type": "stream",
     "text": [
      "\n",
      "Test loss: 0.27. Test accuracy: 89.29%\n"
     ]
    }
   ],
   "source": [
    "print('\\nTest loss: {0:.2f}. Test accuracy: {1:.2f}%'.format(test_loss, test_accuracy*100.))"
   ]
  },
  {
   "cell_type": "code",
   "execution_count": null,
   "id": "nominated-communication",
   "metadata": {},
   "outputs": [],
   "source": []
  }
 ],
 "metadata": {
  "kernelspec": {
   "display_name": "Python3 TF2",
   "language": "python",
   "name": "py3-tf2.0"
  },
  "language_info": {
   "codemirror_mode": {
    "name": "ipython",
    "version": 3
   },
   "file_extension": ".py",
   "mimetype": "text/x-python",
   "name": "python",
   "nbconvert_exporter": "python",
   "pygments_lexer": "ipython3",
   "version": "3.8.5"
  }
 },
 "nbformat": 4,
 "nbformat_minor": 5
}
